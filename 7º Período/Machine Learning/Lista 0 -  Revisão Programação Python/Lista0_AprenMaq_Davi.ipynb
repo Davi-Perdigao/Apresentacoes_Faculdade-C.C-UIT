{
  "cells": [
    {
      "cell_type": "code",
      "execution_count": null,
      "metadata": {
        "colab": {
          "base_uri": "https://localhost:8080/"
        },
        "id": "7uxEk6iugJJg",
        "outputId": "47eccdad-1507-49e1-b05f-6c9a270332e2"
      },
      "outputs": [
        {
          "name": "stdout",
          "output_type": "stream",
          "text": [
            "Digite um número inteiro: 2\n",
            "Número Par\n"
          ]
        }
      ],
      "source": [
        "numero = int(input('Digite um número inteiro: ')) #resto da divisão por 2, o resultado é sempre 0 ou 1.\n",
        "if numero%2 : #se o resultado da operação for 1, cai no IF que diz que é ímpar,se for 0 vai pro ELSE que diz que é par.\n",
        "    print(\"Número Ímpar\")\n",
        "else: \n",
        "    print(\"Número Par\")"
      ]
    },
    {
      "cell_type": "code",
      "execution_count": null,
      "metadata": {
        "colab": {
          "base_uri": "https://localhost:8080/"
        },
        "id": "mTGAGD1BgLI9",
        "outputId": "da8b290e-f033-4871-9f17-3d7d9e591a77"
      },
      "outputs": [
        {
          "name": "stdout",
          "output_type": "stream",
          "text": [
            "Digite o primeiro número: 10\n",
            "Digite o segundo número: 10\n",
            "Digite o terceiro número: 10\n",
            "A média foi:  10.0\n"
          ]
        }
      ],
      "source": [
        "# Pedindo as entradas\n",
        "num1 = float( input(\"Digite o primeiro número: \") )\n",
        "num2 = float( input(\"Digite o segundo número: \") )\n",
        "num3 = float( input(\"Digite o terceiro número: \") )\n",
        "\n",
        "# Cálculo da média\n",
        "media = (num1 + num2 + num3) / 3\n",
        "\n",
        "print(\"A média desses números é: \", media)"
      ]
    },
    {
      "cell_type": "code",
      "execution_count": null,
      "metadata": {
        "id": "E2-J2GlVpWK4"
      },
      "outputs": [],
      "source": [
        "#Vetor como entrada e print o primeiro e ultimo elemento\n",
        "times = [\"CAM\", \"Galo\", \"Atlético\"]\n",
        "print(times[0], ',', times[2])"
      ]
    },
    {
      "cell_type": "code",
      "execution_count": null,
      "metadata": {
        "colab": {
          "base_uri": "https://localhost:8080/"
        },
        "id": "CpRj-24TjNyl",
        "outputId": "90ca6956-3abe-4af5-a1ad-af08fd61371c"
      },
      "outputs": [
        {
          "name": "stdout",
          "output_type": "stream",
          "text": [
            "Apenas os dois primeiros elementos:  ['ovo', 'pão']\n",
            "Apenas os três últimos elementos:  ['batata', 'xuxu', 'cenoura']\n"
          ]
        }
      ],
      "source": [
        "#Crie uma lista vazia\n",
        "lista_vazia = []\n",
        "#Adicione 5 elementos de uma lista de compras de supermercado\n",
        "lista_inicial = [\"ovo\", \"pão\", \"carne\", \"danoninho\", \"desodorante\"]\n",
        "#Remova o último elemento\n",
        "lista_inicial.pop()\n",
        "#Adicione mais 3 elementos\n",
        "mais_itens = [\"batata\", \"xuxu\", \"cenoura\"]\n",
        "nova_lista = lista_inicial + mais_itens\n",
        "#Print apenas os dois primeiros elementos\n",
        "print(\"Apenas os dois primeiros elementos: \", nova_lista[:2])\n",
        "#Print apenas os 3 últimos elementos;\n",
        "print(\"Apenas os três últimos elementos: \", nova_lista[4:7])"
      ]
    },
    {
      "cell_type": "code",
      "execution_count": null,
      "metadata": {
        "colab": {
          "base_uri": "https://localhost:8080/"
        },
        "id": "IP7GlPlBtKcB",
        "outputId": "c4c261ef-bdf0-471f-e0db-02002a397213"
      },
      "outputs": [
        {
          "name": "stdout",
          "output_type": "stream",
          "text": [
            "{'Mateus': 25, 'Fernanda': 22, 'Tamires': 26, 'Cristiano': 25}\n",
            "25\n",
            "{'Mateus': 25, 'Fernanda': 22, 'Tamires': 26, 'Cristiano': 25, 'Pedro': 27}\n",
            "4\n"
          ]
        }
      ],
      "source": [
        "#Crie um dicionário com 4 registros, onde o nome é a chave e a idade é o valor\n",
        "nome_idade = {'Mateus': 25, 'Fernanda': 22, 'Tamires': 26, 'Cristiano': 25}\n",
        "#Print todo o dicionário\n",
        "print(nome_idade)\n",
        "#Print a idade do Mateus\n",
        "print(nome_idade[\"Mateus\"])\n",
        "#Adicione a chave Pedro com idade 27\n",
        "nome_idade['Pedro'] = 27\n",
        "#Print a idade de Pedro\n",
        "print(nome_idade)\n",
        "#Apague o registro Tamires\n",
        "del nome_idade['Tamires']\n",
        "#Print o tamanho do dicionário\n",
        "print(len(nome_idade))"
      ]
    },
    {
      "cell_type": "code",
      "execution_count": null,
      "metadata": {
        "colab": {
          "base_uri": "https://localhost:8080/"
        },
        "id": "-0eSrcv-znRG",
        "outputId": "1cc20994-0a42-4a43-f3a7-d460c00eae65"
      },
      "outputs": [
        {
          "name": "stdout",
          "output_type": "stream",
          "text": [
            "Tamanho: 5\n",
            "Menor elemento: 1\n",
            "Maior elemento: 5\n",
            "Soma dos elementos: 15\n",
            "Média dos elementos: 3.0\n",
            "Penúltimo elemento: 4\n"
          ]
        }
      ],
      "source": [
        "inteiros = [1, 2, 3, 4, 5]\n",
        "print(\"Tamanho:\", len(inteiros))\n",
        "print(\"Menor elemento:\", min(inteiros))\n",
        "print(\"Maior elemento:\", max(inteiros))\n",
        "print(\"Soma dos elementos:\", sum(inteiros))\n",
        "print(\"Média dos elementos:\", sum(inteiros)/5)\n",
        "print(\"Penúltimo elemento:\", inteiros[3])"
      ]
    },
    {
      "cell_type": "code",
      "execution_count": null,
      "metadata": {
        "colab": {
          "base_uri": "https://localhost:8080/"
        },
        "id": "lHimYBj2wPGw",
        "outputId": "5cb3d419-e166-4a2d-ee59-69f41079e8a0"
      },
      "outputs": [
        {
          "name": "stdout",
          "output_type": "stream",
          "text": [
            "Informe uma palavra ou expressão: \n",
            "teste\n",
            "Não é um palíndromo\n"
          ]
        }
      ],
      "source": [
        "terminal = input(\"Informe uma palavra ou expressão: \\n\").upper().replace(' ', '')\n",
        "invertida = terminal[::-1]\n",
        "if terminal == invertida:\n",
        "    print(\"É palíndromo\")\n",
        "else:\n",
        "    print(\"Não é um palíndromo\")"
      ]
    },
    {
      "cell_type": "code",
      "execution_count": null,
      "metadata": {
        "id": "BOrgf5VlzrT7"
      },
      "outputs": [],
      "source": [
        "import pandas as pd\n",
        "import numpy as np\n",
        "capitais = {\n",
        "'Estado': {0: 'Acre', 1: 'Amapá', 2: 'Amazonas', 3: 'Pará', 4: 'Rondônia', 5: 'Roraima', 6: 'Tocantins',7:'Minas Gerais'},\n",
        "'Sigla': {0: 'AC', 1: 'AP', 2: 'AM', 3: 'PA', 4: 'RO', 5: 'RR', 6: 'TO', 7:'MG'},\n",
        "'População (milhoes)': {0: '0.8035', 1: '0.776', 2: '3.9', 3: '8,1', 4: '1.7', 5: '0.505', 6: '1,5', 7: np.nan}, \n",
        "'Capital': {0: 'Rio Branco', 1: 'Macapá', 2: 'Manaus', 3: 'Belém', 4: 'Porto Velho', 5: 'Boa Vista', 6: 'Palmas',7: 'Belo Horizonte'}}\n"
      ]
    },
    {
      "cell_type": "code",
      "execution_count": null,
      "metadata": {
        "colab": {
          "base_uri": "https://localhost:8080/",
          "height": 300
        },
        "id": "IAqJ-BaO0QnH",
        "outputId": "3460197d-6417-4e04-821c-f91523f5c004"
      },
      "outputs": [
        {
          "data": {
            "text/html": [
              "\n",
              "  <div id=\"df-de67709b-c058-45ed-97bf-9a73b412f483\">\n",
              "    <div class=\"colab-df-container\">\n",
              "      <div>\n",
              "<style scoped>\n",
              "    .dataframe tbody tr th:only-of-type {\n",
              "        vertical-align: middle;\n",
              "    }\n",
              "\n",
              "    .dataframe tbody tr th {\n",
              "        vertical-align: top;\n",
              "    }\n",
              "\n",
              "    .dataframe thead th {\n",
              "        text-align: right;\n",
              "    }\n",
              "</style>\n",
              "<table border=\"1\" class=\"dataframe\">\n",
              "  <thead>\n",
              "    <tr style=\"text-align: right;\">\n",
              "      <th></th>\n",
              "      <th>Estado</th>\n",
              "      <th>Sigla</th>\n",
              "      <th>População (milhoes)</th>\n",
              "      <th>Capital</th>\n",
              "    </tr>\n",
              "  </thead>\n",
              "  <tbody>\n",
              "    <tr>\n",
              "      <th>0</th>\n",
              "      <td>Acre</td>\n",
              "      <td>AC</td>\n",
              "      <td>0.8035</td>\n",
              "      <td>Rio Branco</td>\n",
              "    </tr>\n",
              "    <tr>\n",
              "      <th>1</th>\n",
              "      <td>Amapá</td>\n",
              "      <td>AP</td>\n",
              "      <td>0.776</td>\n",
              "      <td>Macapá</td>\n",
              "    </tr>\n",
              "    <tr>\n",
              "      <th>2</th>\n",
              "      <td>Amazonas</td>\n",
              "      <td>AM</td>\n",
              "      <td>3.9</td>\n",
              "      <td>Manaus</td>\n",
              "    </tr>\n",
              "    <tr>\n",
              "      <th>3</th>\n",
              "      <td>Pará</td>\n",
              "      <td>PA</td>\n",
              "      <td>8,1</td>\n",
              "      <td>Belém</td>\n",
              "    </tr>\n",
              "    <tr>\n",
              "      <th>4</th>\n",
              "      <td>Rondônia</td>\n",
              "      <td>RO</td>\n",
              "      <td>1.7</td>\n",
              "      <td>Porto Velho</td>\n",
              "    </tr>\n",
              "    <tr>\n",
              "      <th>5</th>\n",
              "      <td>Roraima</td>\n",
              "      <td>RR</td>\n",
              "      <td>0.505</td>\n",
              "      <td>Boa Vista</td>\n",
              "    </tr>\n",
              "    <tr>\n",
              "      <th>6</th>\n",
              "      <td>Tocantins</td>\n",
              "      <td>TO</td>\n",
              "      <td>1,5</td>\n",
              "      <td>Palmas</td>\n",
              "    </tr>\n",
              "    <tr>\n",
              "      <th>7</th>\n",
              "      <td>Minas Gerais</td>\n",
              "      <td>MG</td>\n",
              "      <td>NaN</td>\n",
              "      <td>Belo Horizonte</td>\n",
              "    </tr>\n",
              "  </tbody>\n",
              "</table>\n",
              "</div>\n",
              "      <button class=\"colab-df-convert\" onclick=\"convertToInteractive('df-de67709b-c058-45ed-97bf-9a73b412f483')\"\n",
              "              title=\"Convert this dataframe to an interactive table.\"\n",
              "              style=\"display:none;\">\n",
              "        \n",
              "  <svg xmlns=\"http://www.w3.org/2000/svg\" height=\"24px\"viewBox=\"0 0 24 24\"\n",
              "       width=\"24px\">\n",
              "    <path d=\"M0 0h24v24H0V0z\" fill=\"none\"/>\n",
              "    <path d=\"M18.56 5.44l.94 2.06.94-2.06 2.06-.94-2.06-.94-.94-2.06-.94 2.06-2.06.94zm-11 1L8.5 8.5l.94-2.06 2.06-.94-2.06-.94L8.5 2.5l-.94 2.06-2.06.94zm10 10l.94 2.06.94-2.06 2.06-.94-2.06-.94-.94-2.06-.94 2.06-2.06.94z\"/><path d=\"M17.41 7.96l-1.37-1.37c-.4-.4-.92-.59-1.43-.59-.52 0-1.04.2-1.43.59L10.3 9.45l-7.72 7.72c-.78.78-.78 2.05 0 2.83L4 21.41c.39.39.9.59 1.41.59.51 0 1.02-.2 1.41-.59l7.78-7.78 2.81-2.81c.8-.78.8-2.07 0-2.86zM5.41 20L4 18.59l7.72-7.72 1.47 1.35L5.41 20z\"/>\n",
              "  </svg>\n",
              "      </button>\n",
              "      \n",
              "  <style>\n",
              "    .colab-df-container {\n",
              "      display:flex;\n",
              "      flex-wrap:wrap;\n",
              "      gap: 12px;\n",
              "    }\n",
              "\n",
              "    .colab-df-convert {\n",
              "      background-color: #E8F0FE;\n",
              "      border: none;\n",
              "      border-radius: 50%;\n",
              "      cursor: pointer;\n",
              "      display: none;\n",
              "      fill: #1967D2;\n",
              "      height: 32px;\n",
              "      padding: 0 0 0 0;\n",
              "      width: 32px;\n",
              "    }\n",
              "\n",
              "    .colab-df-convert:hover {\n",
              "      background-color: #E2EBFA;\n",
              "      box-shadow: 0px 1px 2px rgba(60, 64, 67, 0.3), 0px 1px 3px 1px rgba(60, 64, 67, 0.15);\n",
              "      fill: #174EA6;\n",
              "    }\n",
              "\n",
              "    [theme=dark] .colab-df-convert {\n",
              "      background-color: #3B4455;\n",
              "      fill: #D2E3FC;\n",
              "    }\n",
              "\n",
              "    [theme=dark] .colab-df-convert:hover {\n",
              "      background-color: #434B5C;\n",
              "      box-shadow: 0px 1px 3px 1px rgba(0, 0, 0, 0.15);\n",
              "      filter: drop-shadow(0px 1px 2px rgba(0, 0, 0, 0.3));\n",
              "      fill: #FFFFFF;\n",
              "    }\n",
              "  </style>\n",
              "\n",
              "      <script>\n",
              "        const buttonEl =\n",
              "          document.querySelector('#df-de67709b-c058-45ed-97bf-9a73b412f483 button.colab-df-convert');\n",
              "        buttonEl.style.display =\n",
              "          google.colab.kernel.accessAllowed ? 'block' : 'none';\n",
              "\n",
              "        async function convertToInteractive(key) {\n",
              "          const element = document.querySelector('#df-de67709b-c058-45ed-97bf-9a73b412f483');\n",
              "          const dataTable =\n",
              "            await google.colab.kernel.invokeFunction('convertToInteractive',\n",
              "                                                     [key], {});\n",
              "          if (!dataTable) return;\n",
              "\n",
              "          const docLinkHtml = 'Like what you see? Visit the ' +\n",
              "            '<a target=\"_blank\" href=https://colab.research.google.com/notebooks/data_table.ipynb>data table notebook</a>'\n",
              "            + ' to learn more about interactive tables.';\n",
              "          element.innerHTML = '';\n",
              "          dataTable['output_type'] = 'display_data';\n",
              "          await google.colab.output.renderOutput(dataTable, element);\n",
              "          const docLink = document.createElement('div');\n",
              "          docLink.innerHTML = docLinkHtml;\n",
              "          element.appendChild(docLink);\n",
              "        }\n",
              "      </script>\n",
              "    </div>\n",
              "  </div>\n",
              "  "
            ],
            "text/plain": [
              "         Estado Sigla População (milhoes)         Capital\n",
              "0          Acre    AC              0.8035      Rio Branco\n",
              "1         Amapá    AP               0.776          Macapá\n",
              "2      Amazonas    AM                 3.9          Manaus\n",
              "3          Pará    PA                 8,1           Belém\n",
              "4      Rondônia    RO                 1.7     Porto Velho\n",
              "5       Roraima    RR               0.505       Boa Vista\n",
              "6     Tocantins    TO                 1,5          Palmas\n",
              "7  Minas Gerais    MG                 NaN  Belo Horizonte"
            ]
          },
          "execution_count": 13,
          "metadata": {},
          "output_type": "execute_result"
        }
      ],
      "source": [
        "df = pd.DataFrame(capitais)\n",
        "df"
      ]
    },
    {
      "cell_type": "markdown",
      "metadata": {
        "id": "AIUtzVMP0lxz"
      },
      "source": [
        "a) Qual o formato do Dataframe (quantidade de linhas e colunas)?"
      ]
    },
    {
      "cell_type": "code",
      "execution_count": null,
      "metadata": {
        "colab": {
          "base_uri": "https://localhost:8080/"
        },
        "id": "xgRNV2FO1AMA",
        "outputId": "dc9ee1b1-d289-4aca-b161-ee2f4afb6f30"
      },
      "outputs": [
        {
          "name": "stdout",
          "output_type": "stream",
          "text": [
            "Linhas: 8\n",
            "Colunas: 4\n"
          ]
        }
      ],
      "source": [
        "Linhas = df.shape[0] \n",
        "Colunas = df.shape[1] \n",
        "print(\"Linhas: \" + str(Linhas)) \n",
        "print(\"Colunas: \" + str(Colunas))"
      ]
    },
    {
      "cell_type": "markdown",
      "metadata": {
        "id": "wGn-18Ry2AVf"
      },
      "source": [
        "b) Qual é a Capital que possuí o menor número de habitantes?\n"
      ]
    },
    {
      "cell_type": "code",
      "execution_count": 58,
      "metadata": {
        "colab": {
          "base_uri": "https://localhost:8080/",
          "height": 35
        },
        "id": "b65v2QqT2FSc",
        "outputId": "88c336d5-f036-4e32-f6af-8a3161fe31d8"
      },
      "outputs": [
        {
          "data": {
            "application/vnd.google.colaboratory.intrinsic+json": {
              "type": "string"
            },
            "text/plain": [
              "'0.505'"
            ]
          },
          "execution_count": 58,
          "metadata": {},
          "output_type": "execute_result"
        }
      ],
      "source": [
        "import pandas as pd\n",
        "import numpy as np\n",
        "capitais = {\n",
        "'Estado': {0: 'Acre', 1: 'Amapá', 2: 'Amazonas', 3: 'Pará', 4: 'Rondônia', 5: 'Roraima', 6: 'Tocantins',7:'Minas Gerais'},\n",
        "'Sigla': {0: 'AC', 1: 'AP', 2: 'AM', 3: 'PA', 4: 'RO', 5: 'RR', 6: 'TO', 7:'MG'},\n",
        "'População (milhoes)': {0: '0.8035', 1: '0.776', 2: '3.9', 3: '8,1', 4: '1.7', 5: '0.505', 6: '1,5', 7: np.nan}, \n",
        "'Capital': {0: 'Rio Branco', 1: 'Macapá', 2: 'Manaus', 3: 'Belém', 4: 'Porto Velho', 5: 'Boa Vista', 6: 'Palmas',7: 'Belo Horizonte'}}\n",
        "df = pd.DataFrame(capitais)\n",
        "df = df[df['População (milhoes)'].notna()]\n",
        "minvalue_series = df['População (milhoes)'].min()\n",
        "minvalue_series"
      ]
    },
    {
      "cell_type": "markdown",
      "metadata": {
        "id": "nJrlGcLoqets"
      },
      "source": [
        "c) Quais são as capitais que possuem população maior que 1000000 de habitantes?"
      ]
    },
    {
      "cell_type": "code",
      "execution_count": 32,
      "metadata": {
        "colab": {
          "base_uri": "https://localhost:8080/"
        },
        "id": "DVWJWtnsqlqk",
        "outputId": "1c7c0e31-afda-4772-8a42-71e17a79c421"
      },
      "outputs": [
        {
          "data": {
            "text/plain": [
              "2         Manaus\n",
              "3          Belém\n",
              "4    Porto Velho\n",
              "6         Palmas\n",
              "Name: Capital, dtype: object"
            ]
          },
          "execution_count": 32,
          "metadata": {},
          "output_type": "execute_result"
        }
      ],
      "source": [
        "import pandas as pd\n",
        "import numpy as np\n",
        "capitais = {\n",
        "'Estado': {0: 'Acre', 1: 'Amapá', 2: 'Amazonas', 3: 'Pará', 4: 'Rondônia', 5: 'Roraima', 6: 'Tocantins',7:'Minas Gerais'},\n",
        "'Sigla': {0: 'AC', 1: 'AP', 2: 'AM', 3: 'PA', 4: 'RO', 5: 'RR', 6: 'TO', 7:'MG'},\n",
        "'População (milhoes)': {0: '0.8035', 1: '0.776', 2: '3.9', 3: '8,1', 4: '1.7', 5: '0.505', 6: '1,5', 7: np.nan}, \n",
        "'Capital': {0: 'Rio Branco', 1: 'Macapá', 2: 'Manaus', 3: 'Belém', 4: 'Porto Velho', 5: 'Boa Vista', 6: 'Palmas',7: 'Belo Horizonte'}}\n",
        "df = pd.DataFrame(capitais)\n",
        "df = df[df['População (milhoes)'].notna()]\n",
        "filtro = df[(df['População (milhoes)']>'1')]['Capital']\n",
        "filtro"
      ]
    },
    {
      "cell_type": "markdown",
      "metadata": {
        "id": "NuOexLFmEijn"
      },
      "source": [
        "d) O DataFrame possuí alguma coluna com valor nulo?"
      ]
    },
    {
      "cell_type": "code",
      "execution_count": 40,
      "metadata": {
        "colab": {
          "base_uri": "https://localhost:8080/"
        },
        "id": "nWu07qO9Embd",
        "outputId": "5a9a495f-b2a6-4613-80ad-2e11c74b1fa1"
      },
      "outputs": [
        {
          "name": "stdout",
          "output_type": "stream",
          "text": [
            "Estado                 0\n",
            "Sigla                  0\n",
            "População (milhoes)    1\n",
            "Capital                0\n",
            "dtype: int64\n"
          ]
        }
      ],
      "source": [
        "import pandas as pd\n",
        "import numpy as np\n",
        "capitais = {\n",
        "'Estado': {0: 'Acre', 1: 'Amapá', 2: 'Amazonas', 3: 'Pará', 4: 'Rondônia', 5: 'Roraima', 6: 'Tocantins',7:'Minas Gerais'},\n",
        "'Sigla': {0: 'AC', 1: 'AP', 2: 'AM', 3: 'PA', 4: 'RO', 5: 'RR', 6: 'TO', 7:'MG'},\n",
        "'População (milhoes)': {0: '0.8035', 1: '0.776', 2: '3.9', 3: '8,1', 4: '1.7', 5: '0.505', 6: '1,5', 7: np.nan}, \n",
        "'Capital': {0: 'Rio Branco', 1: 'Macapá', 2: 'Manaus', 3: 'Belém', 4: 'Porto Velho', 5: 'Boa Vista', 6: 'Palmas',7: 'Belo Horizonte'}}\n",
        "df = pd.DataFrame(capitais)\n",
        "print(df.isna().sum())"
      ]
    },
    {
      "cell_type": "markdown",
      "metadata": {
        "id": "qSwtPHMNFycA"
      },
      "source": [
        "e) Qual é a média da população do DataFrame?"
      ]
    },
    {
      "cell_type": "code",
      "execution_count": 49,
      "metadata": {
        "colab": {
          "base_uri": "https://localhost:8080/"
        },
        "id": "3E5CPqdbFztF",
        "outputId": "cbc2bcbb-e08d-4260-98a0-96c91ceeff8b"
      },
      "outputs": [
        {
          "name": "stdout",
          "output_type": "stream",
          "text": [
            "Média da coluna 'População (milhoes)':  2.469214285714286\n"
          ]
        }
      ],
      "source": [
        "import pandas as pd\n",
        "import numpy as np\n",
        "capitais = {\n",
        "'Estado': {0: 'Acre', 1: 'Amapá', 2: 'Amazonas', 3: 'Pará', 4: 'Rondônia', 5: 'Roraima', 6: 'Tocantins',7:'Minas Gerais'},\n",
        "'Sigla': {0: 'AC', 1: 'AP', 2: 'AM', 3: 'PA', 4: 'RO', 5: 'RR', 6: 'TO', 7:'MG'},\n",
        "'População (milhoes)': {0: '0.8035', 1: '0.776', 2: '3.9', 3: '8,1', 4: '1.7', 5: '0.505', 6: '1,5', 7: np.nan}, \n",
        "'Capital': {0: 'Rio Branco', 1: 'Macapá', 2: 'Manaus', 3: 'Belém', 4: 'Porto Velho', 5: 'Boa Vista', 6: 'Palmas',7: 'Belo Horizonte'}}\n",
        "df = pd.DataFrame(capitais)\n",
        "df = df[df['População (milhoes)'].notna()]\n",
        "df['População (milhoes)'] = pd.to_numeric(df['População (milhoes)'].str.replace(',', '.'))\n",
        "mean = df['População (milhoes)'].mean()\n",
        "print(\"Média da coluna 'População (milhoes)': \", mean)"
      ]
    }
  ],
  "metadata": {
    "colab": {
      "provenance": []
    },
    "kernelspec": {
      "display_name": "Python 3.10.2 64-bit",
      "language": "python",
      "name": "python3"
    },
    "language_info": {
      "name": "python",
      "version": "3.10.2"
    },
    "vscode": {
      "interpreter": {
        "hash": "afb734500600fd355917ca529030176ea0ca205570884b88f2f6f7d791fd3fbe"
      }
    }
  },
  "nbformat": 4,
  "nbformat_minor": 0
}
